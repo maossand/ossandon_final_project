{
 "cells": [
  {
   "cell_type": "code",
   "execution_count": null,
   "metadata": {},
   "outputs": [],
   "source": [
    "import pandas\n",
    "import pandas_gbq\n",
    "\n",
    "# TODO: Set project_id to your Google Cloud Platform project ID.\n",
    "# project_id = \"my-project\"\n",
    "\n",
    "# TODO: Set table_id to the full destination table ID (including the\n",
    "#       dataset ID).\n",
    "# table_id = 'my_dataset.my_table'\n",
    "\n",
    "df = pandas.DataFrame(\n",
    "    {\n",
    "        \"my_string\": [\"a\", \"b\", \"c\"],\n",
    "        \"my_int64\": [1, 2, 3],\n",
    "        \"my_float64\": [4.0, 5.0, 6.0],\n",
    "        \"my_bool1\": [True, False, True],\n",
    "        \"my_bool2\": [False, True, False],\n",
    "        \"my_dates\": pandas.date_range(\"now\", periods=3),\n",
    "    }\n",
    ")\n",
    "\n",
    "pandas_gbq.to_gbq(df, table_id, project_id=project_id)"
   ]
  }
 ],
 "metadata": {
  "language_info": {
   "name": "python"
  }
 },
 "nbformat": 4,
 "nbformat_minor": 2
}
